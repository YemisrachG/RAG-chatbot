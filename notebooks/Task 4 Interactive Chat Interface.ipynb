{
 "cells": [
  {
   "cell_type": "code",
   "execution_count": null,
   "id": "172247d1-0c13-4408-a3b3-8209a3349049",
   "metadata": {},
   "outputs": [],
   "source": [
    "!pip install gradio\n",
    "import gradio as gr\n",
    "from rag_pipeline import answer_question\n",
    "\n",
    "# --- Gradio UI ---\n",
    "def ask_ai(question):\n",
    "    if not question.strip():\n",
    "        return \"Please enter a question.\", \"\"\n",
    "\n",
    "    result = answer_question(question)\n",
    "    sources = result[\"sources\"]\n",
    "    sources_display = \"\\n\\n\".join([f\"Source {i+1}:\\n\" + src for i, src in enumerate(sources)])\n",
    "    return result[\"answer\"], sources_display\n",
    "\n",
    "with gr.Blocks() as demo:\n",
    "    gr.Markdown(\"# CrediTrust AI Complaint Assistant\")\n",
    "    gr.Markdown(\"Ask any question about customer complaints below.\")\n",
    "\n",
    "    with gr.Row():\n",
    "        input_box = gr.Textbox(label=\"Your Question\", placeholder=\"e.g. What issues do customers face with savings accounts?\", lines=2)\n",
    "\n",
    "    with gr.Row():\n",
    "        ask_btn = gr.Button(\"Ask\")\n",
    "        clear_btn = gr.Button(\"Clear\")\n",
    "\n",
    "    output_answer = gr.Textbox(label=\"AI Answer\", lines=5)\n",
    "    output_sources = gr.Textbox(label=\"Retrieved Sources\", lines=10)\n",
    "\n",
    "    ask_btn.click(ask_ai, inputs=input_box, outputs=[output_answer, output_sources])\n",
    "    clear_btn.click(lambda: (\"\", \"\", \"\"), outputs=[input_box, output_answer, output_sources])\n",
    "\n",
    "if __name__ == \"__main__\":\n",
    "    demo.launch()\n"
   ]
  },
  {
   "cell_type": "code",
   "execution_count": null,
   "id": "64f0d937-42f8-4413-9939-40dca9dd4382",
   "metadata": {},
   "outputs": [],
   "source": []
  },
  {
   "cell_type": "code",
   "execution_count": null,
   "id": "3c06e3f7-0452-4fe7-a353-692ede596963",
   "metadata": {},
   "outputs": [],
   "source": []
  }
 ],
 "metadata": {
  "kernelspec": {
   "display_name": "Python 3 (ipykernel)",
   "language": "python",
   "name": "python3"
  },
  "language_info": {
   "codemirror_mode": {
    "name": "ipython",
    "version": 3
   },
   "file_extension": ".py",
   "mimetype": "text/x-python",
   "name": "python",
   "nbconvert_exporter": "python",
   "pygments_lexer": "ipython3",
   "version": "3.13.3"
  }
 },
 "nbformat": 4,
 "nbformat_minor": 5
}
